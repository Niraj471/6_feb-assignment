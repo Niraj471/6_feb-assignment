{
 "cells": [
  {
   "cell_type": "code",
   "execution_count": 24,
   "id": "319b66cf-ef3b-4439-82d0-d03b5667ea02",
   "metadata": {},
   "outputs": [],
   "source": [
    "##Q1.>\n",
    "def product_of_number(lis):\n",
    "    flat_list = []\n",
    "    \n",
    "    for item in lis:\n",
    "        \n",
    "        if isinstance(item,list):\n",
    "            flat_list.extend(item)\n",
    "            \n",
    "        elif isinstance(item,dict):\n",
    "            for value in item.values():\n",
    "                if isinstance(value,int) or isinstance(value,float):\n",
    "                    flat_list.extend(value)\n",
    "                    \n",
    "        elif isinstance(item,(int,float)):\n",
    "            flat_list.append(item)\n",
    "            \n",
    "            \n",
    "    result = 1\n",
    "    for number in flat_list:\n",
    "        \n",
    "        result *= number\n",
    "        \n",
    "    return result    "
   ]
  },
  {
   "cell_type": "code",
   "execution_count": 22,
   "id": "1c10b497-3d3b-4ed7-a2a4-2213b458405a",
   "metadata": {},
   "outputs": [],
   "source": [
    "list1 =[1,2,3,4,[44,55,66,True],False,(34,56,78,89,34),{1,2,3,3,2,1},{1:34,\"key2\":[55,67,78,89],4:(45,22,611,34)},[56,\"data science\"],\"machine learing\"]"
   ]
  },
  {
   "cell_type": "code",
   "execution_count": null,
   "id": "5ef01571-73a1-4e3a-87a3-2cd27b6e3cb3",
   "metadata": {},
   "outputs": [],
   "source": [
    "##Q2>.\n",
    "\n"
   ]
  }
 ],
 "metadata": {
  "kernelspec": {
   "display_name": "Python 3 (ipykernel)",
   "language": "python",
   "name": "python3"
  },
  "language_info": {
   "codemirror_mode": {
    "name": "ipython",
    "version": 3
   },
   "file_extension": ".py",
   "mimetype": "text/x-python",
   "name": "python",
   "nbconvert_exporter": "python",
   "pygments_lexer": "ipython3",
   "version": "3.10.8"
  }
 },
 "nbformat": 4,
 "nbformat_minor": 5
}
